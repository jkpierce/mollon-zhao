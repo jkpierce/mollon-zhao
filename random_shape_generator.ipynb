{
 "cells": [
  {
   "cell_type": "code",
   "execution_count": 11,
   "metadata": {
    "scrolled": true
   },
   "outputs": [
    {
     "name": "stdout",
     "output_type": "stream",
     "text": [
      "The autoreload extension is already loaded. To reload it, use:\n",
      "  %reload_ext autoreload\n"
     ]
    }
   ],
   "source": [
    "import random_shape_generator as rsd\n",
    "import geodesic_sphere_decomposition as gsd#run these if you want to reload imported modules every time the code is run \n",
    "\n",
    "import mayavi\n",
    "from mayavi import mlab \n",
    "\n",
    "import numpy as np \n",
    "\n",
    "%load_ext autoreload\n",
    "%autoreload 2"
   ]
  },
  {
   "cell_type": "code",
   "execution_count": 12,
   "metadata": {},
   "outputs": [],
   "source": [
    "# generate the vertices and faces from geodesic construction \n",
    "vertices,faces = gsd.unit_geodesic()\n",
    "# generate the set of angles \n",
    "alpha = rsd.alphamat(vertices)\n",
    "# generate the weights of the expansion \n",
    "weights = rsd.gen_weights(rsd.D)\n",
    "# generate the cmats \n",
    "cmats = [rsd.C_mat(k,alpha) for k in np.arange(2,65)]\n",
    "# generate the rho primes \n",
    "rhoprimes = [rsd.rho_prime(cmats[k-2],k) for k in np.arange(2,65)]\n",
    "# generate total autocorrelation\n",
    "Cp = rsd.total_autocorr(rhoprimes,weights)"
   ]
  },
  {
   "cell_type": "code",
   "execution_count": 19,
   "metadata": {},
   "outputs": [
    {
     "name": "stdout",
     "output_type": "stream",
     "text": [
      "particle of random shape #  0  created\n",
      "particle of random shape #  1  created\n",
      "particle of random shape #  2  created\n",
      "particle of random shape #  3  created\n",
      "particle of random shape #  4  created\n",
      "particle of random shape #  5  created\n",
      "particle of random shape #  6  created\n",
      "particle of random shape #  7  created\n",
      "particle of random shape #  8  created\n",
      "particle of random shape #  9  created\n",
      "particle of random shape #  10  created\n",
      "particle of random shape #  11  created\n",
      "particle of random shape #  12  created\n",
      "particle of random shape #  13  created\n",
      "particle of random shape #  14  created\n",
      "particle of random shape #  15  created\n",
      "particle of random shape #  16  created\n",
      "particle of random shape #  17  created\n",
      "particle of random shape #  18  created\n",
      "particle of random shape #  19  created\n",
      "particle of random shape #  20  created\n",
      "particle of random shape #  21  created\n",
      "particle of random shape #  22  created\n",
      "particle of random shape #  23  created\n",
      "particle of random shape #  24  created\n",
      "particle of random shape #  25  created\n",
      "particle of random shape #  26  created\n",
      "particle of random shape #  27  created\n",
      "particle of random shape #  28  created\n",
      "particle of random shape #  29  created\n"
     ]
    }
   ],
   "source": [
    "# generate randomly shaped stones \n",
    "stones = rsd.generate_stones(30,Cp,vertices)"
   ]
  },
  {
   "cell_type": "code",
   "execution_count": null,
   "metadata": {
    "collapsed": true
   },
   "outputs": [],
   "source": []
  }
 ],
 "metadata": {
  "kernelspec": {
   "display_name": "Python [conda env:mayavi]",
   "language": "python",
   "name": "conda-env-mayavi-py"
  },
  "language_info": {
   "codemirror_mode": {
    "name": "ipython",
    "version": 3
   },
   "file_extension": ".py",
   "mimetype": "text/x-python",
   "name": "python",
   "nbconvert_exporter": "python",
   "pygments_lexer": "ipython3",
   "version": "3.5.4"
  }
 },
 "nbformat": 4,
 "nbformat_minor": 2
}
